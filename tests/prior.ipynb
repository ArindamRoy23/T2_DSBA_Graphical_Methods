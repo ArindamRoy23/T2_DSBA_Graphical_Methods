{
 "cells": [
  {
   "cell_type": "code",
   "execution_count": 21,
   "metadata": {},
   "outputs": [],
   "source": [
    "from scipy import sparse\n",
    "import numpy as np\n",
    "\n",
    "def make_derivative_matrix(w, h):\n",
    "    \"\"\"Creates a matrixform of the first order differencing.\n",
    "\n",
    "    Args:\n",
    "        w: width of the image to be differentiated\n",
    "        h: height of the image to be differentiated\n",
    "\n",
    "    Returns:\n",
    "        First order differencing in matrix form.\n",
    "    \"\"\"\n",
    "    def generate_D_matrix(n):\n",
    "        e = np.ones([2,n])\n",
    "        e[1,:] = -e[1,:] \n",
    "        return sparse.spdiags(e, [0,1], n, n)\n",
    "\n",
    "    Dy = sparse.kron(sparse.eye(w), generate_D_matrix(h)) \n",
    "    Dx = sparse.kron(generate_D_matrix(w),sparse.eye(h)) \n",
    "\n",
    "    D = sparse.vstack([Dy, Dx])\n",
    "    return D\n",
    "\n",
    "\n",
    "def derivative(array, deriv_matrix):\n",
    "    \"\"\"Creates the derivative of an input array.\n",
    "\n",
    "    Args: \n",
    "        array: input with dimension: [class, height, width]\n",
    "\n",
    "    Returns:\n",
    "        Derivative [2, class, height, width] of the input array.\n",
    "    \"\"\"\n",
    "    c, h, w = array.shape\n",
    "    dxy = deriv_matrix @ np.transpose(array, (2, 1, 0)).reshape(-1,c)\n",
    "    dxy = np.transpose(dxy.reshape(2, w, h, c), (0, 3, 2, 1))\n",
    "    return dxy"
   ]
  },
  {
   "cell_type": "code",
   "execution_count": 24,
   "metadata": {},
   "outputs": [
    {
     "data": {
      "text/plain": [
       "array([[[[-4.,  1.,  0.],\n",
       "         [ 5.,  3.,  2.]]],\n",
       "\n",
       "\n",
       "       [[[-3.,  2.,  2.],\n",
       "         [ 2.,  1.,  2.]]]])"
      ]
     },
     "execution_count": 24,
     "metadata": {},
     "output_type": "execute_result"
    }
   ],
   "source": [
    "deriv = make_derivative_matrix(3, 2)\n",
    "I = np.array([[1, 4, 2], [5, 3, 2]]).reshape((1, 2, 3))\n",
    "derivative(I, deriv)"
   ]
  },
  {
   "cell_type": "code",
   "execution_count": 25,
   "metadata": {},
   "outputs": [],
   "source": [
    "from scipy.ndimage import gaussian_filter, laplace\n",
    "\n",
    "image_first_derivative = gaussian_filter(I, sigma=1)"
   ]
  },
  {
   "cell_type": "code",
   "execution_count": 57,
   "metadata": {},
   "outputs": [],
   "source": [
    "I = np.array([[[1, 4, 2], [5, 3, 2]], [[4, 1, 6], [2, 1, 1]]])\n",
    "I2 = np.array([[1, 4, 2], [5, 3, 2]])"
   ]
  },
  {
   "cell_type": "code",
   "execution_count": 70,
   "metadata": {},
   "outputs": [
    {
     "data": {
      "text/plain": [
       "array([[[1, 4, 2],\n",
       "        [5, 3, 2]],\n",
       "\n",
       "       [[4, 1, 6],\n",
       "        [2, 1, 1]]])"
      ]
     },
     "execution_count": 70,
     "metadata": {},
     "output_type": "execute_result"
    }
   ],
   "source": [
    "I"
   ]
  },
  {
   "cell_type": "code",
   "execution_count": 63,
   "metadata": {},
   "outputs": [
    {
     "data": {
      "text/plain": [
       "array([[5, 3, 2],\n",
       "       [2, 1, 1]])"
      ]
     },
     "execution_count": 63,
     "metadata": {},
     "output_type": "execute_result"
    }
   ],
   "source": [
    "I[:,-1,:]"
   ]
  },
  {
   "cell_type": "code",
   "execution_count": 65,
   "metadata": {},
   "outputs": [
    {
     "data": {
      "text/plain": [
       "array([[[ 4, -1,  0]],\n",
       "\n",
       "       [[-2,  0, -5]]])"
      ]
     },
     "execution_count": 65,
     "metadata": {},
     "output_type": "execute_result"
    }
   ],
   "source": [
    "np.diff(I, axis = 1)"
   ]
  },
  {
   "cell_type": "code",
   "execution_count": 59,
   "metadata": {},
   "outputs": [
    {
     "data": {
      "text/plain": [
       "array([[ 3, -2,  0],\n",
       "       [-2, -1,  0]])"
      ]
     },
     "execution_count": 59,
     "metadata": {},
     "output_type": "execute_result"
    }
   ],
   "source": [
    "#np.concatenate((np.diff(I2, axis = 0),np.array([[0, 0, 0]])), axis = 0)\n",
    "np.concatenate((np.diff(I2, axis = 1),np.array([[0],[0]])), axis = 1)"
   ]
  },
  {
   "cell_type": "code",
   "execution_count": 68,
   "metadata": {},
   "outputs": [
    {
     "data": {
      "text/plain": [
       "array([[[ 4, -1,  0],\n",
       "        [ 5,  3,  2]],\n",
       "\n",
       "       [[-2,  0, -5],\n",
       "        [ 2,  1,  1]]])"
      ]
     },
     "execution_count": 68,
     "metadata": {},
     "output_type": "execute_result"
    }
   ],
   "source": [
    "np.concatenate((np.diff(I, axis = 1), np.expand_dims(I[:,-1,:], 1)), axis = 1)"
   ]
  },
  {
   "cell_type": "code",
   "execution_count": 74,
   "metadata": {},
   "outputs": [],
   "source": [
    "def compute_deriv(img):\n",
    "    diffs_x = np.diff(img, axis = 2)\n",
    "    diffs_y = np.diff(img, axis = 1)\n",
    "    \n",
    "    last_cols_reshaped = np.expand_dims(img[:,:,-1], 2)\n",
    "    last_rows_reshaped = np.expand_dims(img[:,-1,:], 1)\n",
    "\n",
    "    dx = np.concatenate((diffs_x, last_cols_reshaped), axis = 2)\n",
    "    dy = np.concatenate((diffs_y, last_rows_reshaped), axis = 1)\n",
    "\n",
    "    return np.array([dx, dy])"
   ]
  },
  {
   "cell_type": "code",
   "execution_count": 76,
   "metadata": {},
   "outputs": [
    {
     "data": {
      "text/plain": [
       "(2, 2, 2, 3)"
      ]
     },
     "execution_count": 76,
     "metadata": {},
     "output_type": "execute_result"
    }
   ],
   "source": []
  },
  {
   "attachments": {},
   "cell_type": "markdown",
   "metadata": {},
   "source": [
    "# Testing our functions"
   ]
  },
  {
   "cell_type": "code",
   "execution_count": 1,
   "metadata": {},
   "outputs": [],
   "source": [
    "from priorEstimator import PriorEstimator\n",
    "import numpy as np"
   ]
  },
  {
   "cell_type": "code",
   "execution_count": 2,
   "metadata": {},
   "outputs": [],
   "source": [
    "I = np.array([[[1, 4, 2], [5, 3, 2]], [[4, 1, 6], [2, 1, 1]], [[1, 4, 1], [4, 3, 7]]])\n",
    "Theta = np.array([[[0, 1, 0], [0, 1, 1]], [[0, 0, 1], [1, 0, 0]], [[1, 0, 0], [0, 0, 0]]])"
   ]
  },
  {
   "cell_type": "code",
   "execution_count": 3,
   "metadata": {},
   "outputs": [],
   "source": [
    "estim = PriorEstimator(I)"
   ]
  },
  {
   "cell_type": "code",
   "execution_count": 8,
   "metadata": {},
   "outputs": [
    {
     "data": {
      "text/plain": [
       "1.1971310567689821"
      ]
     },
     "execution_count": 8,
     "metadata": {},
     "output_type": "execute_result"
    }
   ],
   "source": [
    "estim._prior_energy(I, gamma = 5, theta= Theta)"
   ]
  }
 ],
 "metadata": {
  "kernelspec": {
   "display_name": "base",
   "language": "python",
   "name": "python3"
  },
  "language_info": {
   "codemirror_mode": {
    "name": "ipython",
    "version": 3
   },
   "file_extension": ".py",
   "mimetype": "text/x-python",
   "name": "python",
   "nbconvert_exporter": "python",
   "pygments_lexer": "ipython3",
   "version": "3.9.13"
  },
  "orig_nbformat": 4,
  "vscode": {
   "interpreter": {
    "hash": "96762580dc771c728ac9a1b8aa29a3a420bc09545a8c1a32553175fbb1f6eb2a"
   }
  }
 },
 "nbformat": 4,
 "nbformat_minor": 2
}
