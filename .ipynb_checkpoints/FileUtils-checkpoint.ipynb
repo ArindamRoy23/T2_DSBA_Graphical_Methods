{
 "cells": [
  {
   "cell_type": "code",
   "execution_count": 1,
   "metadata": {},
   "outputs": [],
   "source": [
    "from src.lib.utils.FileHandling.FileHandlingInterface import *\n",
    "from src.lib.SVCDSeg.SVCD import *\n",
    "import matplotlib.pyplot as plt\n",
    "import logging\n",
    "import time\n",
    "import warnings"
   ]
  },
  {
   "cell_type": "code",
   "execution_count": 2,
   "metadata": {},
   "outputs": [],
   "source": [
    "KEA_IMAGE_PATH = r\".\\data\\github\\kea.jpg\"\n",
    "KEA_SCRIBBLE_PATH = r\".\\data\\github\\kea_scribble.png\"\n"
   ]
  },
  {
   "cell_type": "code",
   "execution_count": 3,
   "metadata": {},
   "outputs": [],
   "source": [
    "sample_image_kea = TargetImage(KEA_IMAGE_PATH)\n",
    "sample_scribble_kea = EncodedScribble(\n",
    "    KEA_SCRIBBLE_PATH, \n",
    "    is_xml = 2\n",
    ")"
   ]
  },
  {
   "cell_type": "code",
   "execution_count": 4,
   "metadata": {},
   "outputs": [],
   "source": [
    "n_classes = sample_scribble_kea.get_n_classes()"
   ]
  },
  {
   "cell_type": "code",
   "execution_count": 5,
   "metadata": {},
   "outputs": [],
   "source": [
    "segmenter = SVCDSeg(\n",
    "    n_classes,\n",
    "    max_iter = 5000,\n",
    "    debug = 0,\n",
    "    transpose = True\n",
    ")"
   ]
  },
  {
   "cell_type": "code",
   "execution_count": null,
   "metadata": {},
   "outputs": [
    {
     "name": "stderr",
     "output_type": "stream",
     "text": [
      "  0%|                                                                              | 1/5000 [00:17<23:48:12, 17.14s/it]"
     ]
    },
    {
     "name": "stdout",
     "output_type": "stream",
     "text": [
      "dtype float64\n"
     ]
    },
    {
     "name": "stderr",
     "output_type": "stream",
     "text": [
      " 12%|█████████▍                                                                     | 595/5000 [01:45<10:52,  6.76it/s]"
     ]
    }
   ],
   "source": [
    "fitted_segmentation = segmenter.fit(\n",
    "    sample_image_kea,\n",
    "    sample_scribble_kea \n",
    ")"
   ]
  },
  {
   "cell_type": "code",
   "execution_count": null,
   "metadata": {},
   "outputs": [],
   "source": [
    "final_segmentation = np.argmax(segmenter.theta, axis = 0).transpose(1, 0)\n",
    "plt.imshow(final_segmentation)"
   ]
  },
  {
   "cell_type": "code",
   "execution_count": null,
   "metadata": {},
   "outputs": [],
   "source": [
    "dual_vars = np.sum(segmenter.xi**2, axis = 0)\n",
    "dual_vars = np.sqrt(dual_vars).transpose(2, 1, 0)\n",
    "dual_vars = np.mean(dual_vars, axis = 2)\n",
    "plt.imshow(dual_vars)"
   ]
  },
  {
   "cell_type": "code",
   "execution_count": null,
   "metadata": {},
   "outputs": [],
   "source": [
    "fig, ax = plt.subplots()\n",
    "\n",
    "ax.plot(segmenter.dual_energy_history)\n",
    "ax.set_title(\"Dual energy history\")"
   ]
  },
  {
   "cell_type": "code",
   "execution_count": null,
   "metadata": {},
   "outputs": [],
   "source": [
    "fig, ax = plt.subplots()\n",
    "ax.plot(segmenter.energy_history)\n",
    "ax.set_title(\"Primal energy history\")\n"
   ]
  },
  {
   "cell_type": "code",
   "execution_count": null,
   "metadata": {},
   "outputs": [],
   "source": [
    "im_arr = sample_image_kea.get_image_array()\n",
    "im_shape = sample_image_kea.get_image_shape()\n",
    "segmenter.utils.make_derivative_matrix(*im_shape[1::-1])\n",
    "#half_g = segmenter.utils.init_halfg(im_arr)\n",
    "half_g = segmenter.halfg\n",
    "_, w, h = half_g.shape\n",
    "half_g = half_g.reshape(w, h)\n",
    "half_g.shape\n",
    "vmin = np.min(half_g)\n",
    "vmax = np.max(half_g)\n",
    "\n",
    "fig, ax = plt.subplots()\n",
    "\n",
    "im1 = ax.imshow(half_g.transpose(1, 0), cmap='magma', alpha=1.0, vmin=vmin, vmax=vmax)\n",
    "ax.set_title(\"G function on the image\")\n",
    "fig.colorbar(im1, ax=ax, label='')"
   ]
  },
  {
   "cell_type": "code",
   "execution_count": null,
   "metadata": {},
   "outputs": [],
   "source": [
    "for likelihood in segmenter.fitted_likelihood:\n",
    "    fig, ax = plt.subplots()\n",
    "    vmin = np.min(likelihood)\n",
    "    vmax = np.max(likelihood)\n",
    "    im1 = ax.imshow(likelihood.transpose(1, 0), cmap='magma', alpha=1.0, vmin=vmin, vmax=vmax)\n",
    "    fig.colorbar(im1, ax=ax, label='')"
   ]
  },
  {
   "cell_type": "code",
   "execution_count": null,
   "metadata": {},
   "outputs": [],
   "source": []
  }
 ],
 "metadata": {
  "kernelspec": {
   "display_name": "Python 3 (ipykernel)",
   "language": "python",
   "name": "python3"
  },
  "language_info": {
   "codemirror_mode": {
    "name": "ipython",
    "version": 3
   },
   "file_extension": ".py",
   "mimetype": "text/x-python",
   "name": "python",
   "nbconvert_exporter": "python",
   "pygments_lexer": "ipython3",
   "version": "3.10.9"
  },
  "vscode": {
   "interpreter": {
    "hash": "d672ab6bf67232621c7d4e8f5a29d9fcd6e62003128199299076bf66f7f62367"
   }
  }
 },
 "nbformat": 4,
 "nbformat_minor": 2
}
