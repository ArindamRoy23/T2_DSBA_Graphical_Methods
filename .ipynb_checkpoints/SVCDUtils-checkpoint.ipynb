{
 "cells": [
  {
   "cell_type": "code",
   "execution_count": 1,
   "metadata": {},
   "outputs": [],
   "source": [
    "from src.lib.utils.SVCDUtils.SVCDUtils import *\n",
    "from src.lib.utils.FileHandling.FileHandlingInterface import *\n",
    "import matplotlib.pyplot as plt"
   ]
  },
  {
   "cell_type": "code",
   "execution_count": 2,
   "metadata": {},
   "outputs": [],
   "source": [
    "sample_image_path = r\".\\data\\demoPascal\\2010_005258.jpg\""
   ]
  },
  {
   "cell_type": "code",
   "execution_count": 3,
   "metadata": {},
   "outputs": [],
   "source": [
    "sample_image = TargetImage(sample_image_path)"
   ]
  },
  {
   "cell_type": "code",
   "execution_count": 4,
   "metadata": {},
   "outputs": [],
   "source": [
    "image_array = sample_image.get_image_array().transpose((0, 2, 1))"
   ]
  },
  {
   "cell_type": "code",
   "execution_count": 5,
   "metadata": {},
   "outputs": [],
   "source": [
    "w, h = sample_image.get_image_shape()"
   ]
  },
  {
   "cell_type": "code",
   "execution_count": 6,
   "metadata": {},
   "outputs": [
    {
     "ename": "AssertionError",
     "evalue": "",
     "output_type": "error",
     "traceback": [
      "\u001b[1;31m---------------------------------------------------------------------------\u001b[0m",
      "\u001b[1;31mAssertionError\u001b[0m                            Traceback (most recent call last)",
      "Cell \u001b[1;32mIn[6], line 6\u001b[0m\n\u001b[0;32m      4\u001b[0m svcd\u001b[38;5;241m.\u001b[39mderiv \u001b[38;5;241m=\u001b[39m svcd\u001b[38;5;241m.\u001b[39mmake_derivative_matrix(\u001b[38;5;241m400\u001b[39m,\u001b[38;5;241m500\u001b[39m)\n\u001b[0;32m      5\u001b[0m arrp \u001b[38;5;241m=\u001b[39m svcd\u001b[38;5;241m.\u001b[39mprojection_simplex(arr)\n\u001b[1;32m----> 6\u001b[0m \u001b[38;5;28;01massert\u001b[39;00m np\u001b[38;5;241m.\u001b[39mall(np\u001b[38;5;241m.\u001b[39msum(arrp, axis \u001b[38;5;241m=\u001b[39m \u001b[38;5;241m0\u001b[39m) \u001b[38;5;241m==\u001b[39m \u001b[38;5;241m1\u001b[39m)\n",
      "\u001b[1;31mAssertionError\u001b[0m: "
     ]
    }
   ],
   "source": [
    "import numpy as np\n",
    "arr = np.random.rand(*(3, 400, 500))\n",
    "svcd = SVCDUtils()\n",
    "svcd.deriv = svcd.make_derivative_matrix(400,500)\n",
    "arrp = svcd.projection_simplex(arr)\n",
    "assert np.all(np.sum(arrp, axis = 0) == 1)"
   ]
  },
  {
   "cell_type": "code",
   "execution_count": null,
   "metadata": {},
   "outputs": [],
   "source": [
    "svcd = SVCDUtils()\n",
    "\n",
    "svcd.deriv = svcd.make_derivative_matrix(w,h)\n",
    "\n",
    "halfg = svcd.init_halfg(image_array, return_= 0)\n",
    "_, w, h = halfg.shape\n",
    "half_g = halfg.reshape(w, h)\n",
    "\n",
    "import numpy as np\n",
    "\n",
    "vmin = np.min(half_g)\n",
    "vmax = np.max(half_g)\n",
    "\n",
    "fig, ax = plt.subplots()\n",
    "\n",
    "im1 = ax.imshow(half_g, cmap='magma', alpha=1.0, vmin=vmin, vmax=vmax)\n",
    "fig.colorbar(im1, ax=ax, label='')"
   ]
  }
 ],
 "metadata": {
  "kernelspec": {
   "display_name": "Python 3 (ipykernel)",
   "language": "python",
   "name": "python3"
  },
  "language_info": {
   "codemirror_mode": {
    "name": "ipython",
    "version": 3
   },
   "file_extension": ".py",
   "mimetype": "text/x-python",
   "name": "python",
   "nbconvert_exporter": "python",
   "pygments_lexer": "ipython3",
   "version": "3.10.9"
  },
  "vscode": {
   "interpreter": {
    "hash": "d672ab6bf67232621c7d4e8f5a29d9fcd6e62003128199299076bf66f7f62367"
   }
  }
 },
 "nbformat": 4,
 "nbformat_minor": 2
}
