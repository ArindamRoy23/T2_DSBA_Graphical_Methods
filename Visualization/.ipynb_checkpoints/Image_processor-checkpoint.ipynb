{
 "cells": [
  {
   "cell_type": "code",
   "execution_count": 1,
   "id": "4efffdbc",
   "metadata": {},
   "outputs": [],
   "source": [
    "import numpy as np\n",
    "import pandas as pd"
   ]
  },
  {
   "cell_type": "code",
   "execution_count": 2,
   "id": "27636c6a",
   "metadata": {},
   "outputs": [],
   "source": [
    "from PIL import Image"
   ]
  },
  {
   "cell_type": "code",
   "execution_count": 139,
   "id": "7cd52a1c",
   "metadata": {},
   "outputs": [],
   "source": [
    "image = Image.open(r\"C:\\Users\\arind\\OneDrive\\Desktop\\Classes\\T2_DSBA_NLP\\cs224n_Assignment-1\\Visualization\\38436.png\")"
   ]
  },
  {
   "cell_type": "code",
   "execution_count": 140,
   "id": "104a86db",
   "metadata": {},
   "outputs": [],
   "source": [
    "image = image.convert('L')"
   ]
  },
  {
   "cell_type": "code",
   "execution_count": 154,
   "id": "82b21015",
   "metadata": {},
   "outputs": [
    {
     "data": {
      "text/plain": [
       "(600, 900)"
      ]
     },
     "execution_count": 154,
     "metadata": {},
     "output_type": "execute_result"
    }
   ],
   "source": [
    "# image = image.convert('L')\n",
    "image_array = np.array(image)\n",
    "image_array.shape"
   ]
  },
  {
   "cell_type": "code",
   "execution_count": 155,
   "id": "d3448825",
   "metadata": {},
   "outputs": [
    {
     "data": {
      "text/plain": [
       "array([ 66, 104, 143, 181, 219], dtype=uint8)"
      ]
     },
     "execution_count": 155,
     "metadata": {},
     "output_type": "execute_result"
    }
   ],
   "source": [
    "classes = np.unique(image_array, axis=None)\n",
    "classes"
   ]
  },
  {
   "cell_type": "code",
   "execution_count": 158,
   "id": "7f96a2ae",
   "metadata": {},
   "outputs": [
    {
     "data": {
      "text/plain": [
       "5"
      ]
     },
     "execution_count": 158,
     "metadata": {},
     "output_type": "execute_result"
    }
   ],
   "source": []
  },
  {
   "cell_type": "code",
   "execution_count": 159,
   "id": "942ec1c5",
   "metadata": {},
   "outputs": [],
   "source": [
    "numbers = np.linspace(0, 255, len(classes))"
   ]
  },
  {
   "cell_type": "code",
   "execution_count": 160,
   "id": "ee548a71",
   "metadata": {},
   "outputs": [
    {
     "data": {
      "text/plain": [
       "array([  0.  ,  63.75, 127.5 , 191.25, 255.  ])"
      ]
     },
     "execution_count": 160,
     "metadata": {},
     "output_type": "execute_result"
    }
   ],
   "source": [
    "numbers"
   ]
  },
  {
   "cell_type": "code",
   "execution_count": 163,
   "id": "af79e41c",
   "metadata": {},
   "outputs": [],
   "source": [
    "for idx,clas in enumerate(classes):\n",
    "    image_array[image_array==clas] = numbers[idx]"
   ]
  },
  {
   "cell_type": "code",
   "execution_count": 167,
   "id": "0183d937",
   "metadata": {},
   "outputs": [],
   "source": [
    "import matplotlib.pyplot as plt\n",
    "\n",
    "image_rgb = np.repeat(image_array[:, :, np.newaxis], 3, axis=2)"
   ]
  },
  {
   "cell_type": "code",
   "execution_count": 170,
   "id": "f821cbd1",
   "metadata": {},
   "outputs": [
    {
     "data": {
      "text/plain": [
       "<matplotlib.image.AxesImage at 0x277d15d21c0>"
      ]
     },
     "execution_count": 170,
     "metadata": {},
     "output_type": "execute_result"
    },
    {
     "data": {
      "image/png": "[encoded data removed]",
      "text/plain": [
       "<Figure size 432x288 with 1 Axes>"
      ]
     },
     "metadata": {
      "needs_background": "light"
     },
     "output_type": "display_data"
    }
   ],
   "source": [
    "plt.imshow(image_rgb)"
   ]
  }
 ],
 "metadata": {
  "kernelspec": {
   "display_name": "Python 3 (ipykernel)",
   "language": "python",
   "name": "python3"
  },
  "language_info": {
   "codemirror_mode": {
    "name": "ipython",
    "version": 3
   },
   "file_extension": ".py",
   "mimetype": "text/x-python",
   "name": "python",
   "nbconvert_exporter": "python",
   "pygments_lexer": "ipython3",
   "version": "3.9.12"
  }
 },
 "nbformat": 4,
 "nbformat_minor": 5
}
