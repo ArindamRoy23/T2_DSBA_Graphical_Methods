{
 "cells": [
  {
   "cell_type": "code",
   "execution_count": 1,
   "id": "4efffdbc",
   "metadata": {},
   "outputs": [],
   "source": [
    "import numpy as np\n",
    "import pandas as pd"
   ]
  },
  {
   "cell_type": "code",
   "execution_count": 3,
   "id": "27636c6a",
   "metadata": {},
   "outputs": [],
   "source": [
    "from PIL import Image"
   ]
  },
  {
   "cell_type": "code",
   "execution_count": 22,
   "id": "7cd52a1c",
   "metadata": {},
   "outputs": [],
   "source": [
    "image = Image.open(r\"..\\Visualization\\38436.png\")"
   ]
  },
  {
   "cell_type": "code",
   "execution_count": 23,
   "id": "104a86db",
   "metadata": {},
   "outputs": [],
   "source": [
    "image = image.convert('L')"
   ]
  },
  {
   "cell_type": "code",
   "execution_count": 24,
   "id": "82b21015",
   "metadata": {},
   "outputs": [
    {
     "data": {
      "text/plain": [
       "(600, 900)"
      ]
     },
     "execution_count": 24,
     "metadata": {},
     "output_type": "execute_result"
    }
   ],
   "source": [
    "# image = image.convert('L')\n",
    "image_array = np.array(image)\n",
    "image_array.shape"
   ]
  },
  {
   "cell_type": "code",
   "execution_count": 25,
   "id": "d3448825",
   "metadata": {},
   "outputs": [
    {
     "data": {
      "text/plain": [
       "array([ 66, 104, 143, 181, 219], dtype=uint8)"
      ]
     },
     "execution_count": 25,
     "metadata": {},
     "output_type": "execute_result"
    }
   ],
   "source": [
    "classes = np.unique(image_array, axis=None)\n",
    "classes"
   ]
  },
  {
   "cell_type": "code",
   "execution_count": 26,
   "id": "7f96a2ae",
   "metadata": {},
   "outputs": [],
   "source": [
    "numbers = np.linspace(0, 255, len(classes))"
   ]
  },
  {
   "cell_type": "code",
   "execution_count": 27,
   "id": "ee548a71",
   "metadata": {},
   "outputs": [
    {
     "data": {
      "text/plain": [
       "array([  0.  ,  63.75, 127.5 , 191.25, 255.  ])"
      ]
     },
     "execution_count": 27,
     "metadata": {},
     "output_type": "execute_result"
    }
   ],
   "source": [
    "numbers"
   ]
  },
  {
   "cell_type": "code",
   "execution_count": 28,
   "id": "af79e41c",
   "metadata": {},
   "outputs": [],
   "source": [
    "for idx,clas in enumerate(classes):\n",
    "    image_array[image_array==clas] = numbers[idx]"
   ]
  },
  {
   "cell_type": "code",
   "execution_count": 29,
   "id": "0183d937",
   "metadata": {},
   "outputs": [],
   "source": [
    "import matplotlib.pyplot as plt\n",
    "\n",
    "image_rgb = np.repeat(image_array[:, :, np.newaxis], 3, axis=2)"
   ]
  },
  {
   "cell_type": "code",
   "execution_count": 31,
   "id": "f821cbd1",
   "metadata": {},
   "outputs": [
    {
     "data": {
      "text/plain": [
       "array([[[  0,   0,   0],\n",
       "        [  0,   0,   0],\n",
       "        [  0,   0,   0],\n",
       "        ...,\n",
       "        [255, 255, 255],\n",
       "        [255, 255, 255],\n",
       "        [255, 255, 255]],\n",
       "\n",
       "       [[  0,   0,   0],\n",
       "        [  0,   0,   0],\n",
       "        [  0,   0,   0],\n",
       "        ...,\n",
       "        [255, 255, 255],\n",
       "        [255, 255, 255],\n",
       "        [255, 255, 255]],\n",
       "\n",
       "       [[  0,   0,   0],\n",
       "        [  0,   0,   0],\n",
       "        [  0,   0,   0],\n",
       "        ...,\n",
       "        [255, 255, 255],\n",
       "        [255, 255, 255],\n",
       "        [255, 255, 255]],\n",
       "\n",
       "       ...,\n",
       "\n",
       "       [[  0,   0,   0],\n",
       "        [  0,   0,   0],\n",
       "        [  0,   0,   0],\n",
       "        ...,\n",
       "        [255, 255, 255],\n",
       "        [255, 255, 255],\n",
       "        [255, 255, 255]],\n",
       "\n",
       "       [[  0,   0,   0],\n",
       "        [  0,   0,   0],\n",
       "        [  0,   0,   0],\n",
       "        ...,\n",
       "        [255, 255, 255],\n",
       "        [255, 255, 255],\n",
       "        [255, 255, 255]],\n",
       "\n",
       "       [[  0,   0,   0],\n",
       "        [  0,   0,   0],\n",
       "        [  0,   0,   0],\n",
       "        ...,\n",
       "        [255, 255, 255],\n",
       "        [255, 255, 255],\n",
       "        [255, 255, 255]]], dtype=uint8)"
      ]
     },
     "execution_count": 31,
     "metadata": {},
     "output_type": "execute_result"
    }
   ],
   "source": [
    "image_rgb"
   ]
  },
  {
   "cell_type": "code",
   "execution_count": 34,
   "id": "ba04804c",
   "metadata": {},
   "outputs": [],
   "source": [
    "from PIL import Image"
   ]
  },
  {
   "cell_type": "code",
   "execution_count": 37,
   "id": "e64d0a56",
   "metadata": {},
   "outputs": [],
   "source": [
    "img = Image.fromarray(image_rgb)"
   ]
  },
  {
   "cell_type": "code",
   "execution_count": 43,
   "id": "c896c061",
   "metadata": {},
   "outputs": [],
   "source": [
    "img.save(r'Output\\latest_run.png')"
   ]
  }
 ],
 "metadata": {
  "kernelspec": {
   "display_name": "Python 3 (ipykernel)",
   "language": "python",
   "name": "python3"
  },
  "language_info": {
   "codemirror_mode": {
    "name": "ipython",
    "version": 3
   },
   "file_extension": ".py",
   "mimetype": "text/x-python",
   "name": "python",
   "nbconvert_exporter": "python",
   "pygments_lexer": "ipython3",
   "version": "3.9.12"
  }
 },
 "nbformat": 4,
 "nbformat_minor": 5
}
