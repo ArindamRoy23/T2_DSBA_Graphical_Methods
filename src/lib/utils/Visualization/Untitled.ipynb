{
 "cells": [
  {
   "cell_type": "code",
   "execution_count": 23,
   "id": "22ce6c94",
   "metadata": {},
   "outputs": [],
   "source": [
    "import image_processor\n",
    "import numpy as np\n",
    "import pandas as pd\n",
    "from PIL import Image"
   ]
  },
  {
   "cell_type": "code",
   "execution_count": 15,
   "id": "a0b990f8",
   "metadata": {},
   "outputs": [],
   "source": [
    "image = Image.open(r\"..\\Visualization\\38436.png\")\n",
    "image = image.convert('L')"
   ]
  },
  {
   "cell_type": "code",
   "execution_count": 25,
   "id": "1d78e42e",
   "metadata": {},
   "outputs": [
    {
     "ename": "AttributeError",
     "evalue": "module 'image_processor' has no attribute 'make_image'",
     "output_type": "error",
     "traceback": [
      "\u001b[1;31m---------------------------------------------------------------------------\u001b[0m",
      "\u001b[1;31mAttributeError\u001b[0m                            Traceback (most recent call last)",
      "Input \u001b[1;32mIn [25]\u001b[0m, in \u001b[0;36m<cell line: 2>\u001b[1;34m()\u001b[0m\n\u001b[0;32m      1\u001b[0m inst \u001b[38;5;241m=\u001b[39m image_processor\u001b[38;5;241m.\u001b[39mimage_processor()\n\u001b[1;32m----> 2\u001b[0m \u001b[43mimage_processor\u001b[49m\u001b[38;5;241;43m.\u001b[39;49m\u001b[43mmake_image\u001b[49m(image\u001b[38;5;241m=\u001b[39mimage)\n",
      "\u001b[1;31mAttributeError\u001b[0m: module 'image_processor' has no attribute 'make_image'"
     ]
    }
   ],
   "source": [
    "inst = image_processor.image_processor()\n"
   ]
  },
  {
   "cell_type": "code",
   "execution_count": 27,
   "id": "7128c285",
   "metadata": {},
   "outputs": [],
   "source": [
    "inst.make_image(image=image, save_name='test_img1.png')"
   ]
  }
 ],
 "metadata": {
  "kernelspec": {
   "display_name": "Python 3 (ipykernel)",
   "language": "python",
   "name": "python3"
  },
  "language_info": {
   "codemirror_mode": {
    "name": "ipython",
    "version": 3
   },
   "file_extension": ".py",
   "mimetype": "text/x-python",
   "name": "python",
   "nbconvert_exporter": "python",
   "pygments_lexer": "ipython3",
   "version": "3.9.12"
  }
 },
 "nbformat": 4,
 "nbformat_minor": 5
}
