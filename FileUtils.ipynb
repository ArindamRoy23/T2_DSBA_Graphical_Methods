{
 "cells": [
  {
   "cell_type": "code",
   "execution_count": 22,
   "metadata": {},
   "outputs": [],
   "source": [
    "from src.lib.utils.FileHandling.FileHandlingInterface import *\n",
    "from src.lib.probabilityEstim.Likelihood import *\n",
    "import matplotlib.pyplot as plt\n",
    "import logging\n",
    "import time\n",
    "import warnings\n",
    "from src.lib.utils.FileHandling.FileHandlingInterface import * "
   ]
  },
  {
   "cell_type": "code",
   "execution_count": 23,
   "metadata": {},
   "outputs": [],
   "source": [
    "KEA_IMAGE_PATH = r\".\\data\\github\\kea.jpg\"\n",
    "KEA_SCRIBBLE_PATH = r\".\\data\\github\\kea_scribble.png\"\n"
   ]
  },
  {
   "cell_type": "code",
   "execution_count": 24,
   "metadata": {},
   "outputs": [],
   "source": [
    "sample_image_kea = TargetImage(KEA_IMAGE_PATH)\n",
    "sample_scribble_kea = EncodedScribble(\n",
    "    KEA_SCRIBBLE_PATH, \n",
    "    is_xml = 2\n",
    ")"
   ]
  },
  {
   "cell_type": "code",
   "execution_count": 32,
   "metadata": {},
   "outputs": [
    {
     "data": {
      "text/plain": [
       "(3, 640, 382)"
      ]
     },
     "execution_count": 32,
     "metadata": {},
     "output_type": "execute_result"
    }
   ],
   "source": [
    "sample_image_kea.get_image_array().shape"
   ]
  },
  {
   "cell_type": "code",
   "execution_count": 25,
   "metadata": {},
   "outputs": [
    {
     "data": {
      "text/plain": [
       "(9213, 2)"
      ]
     },
     "execution_count": 25,
     "metadata": {},
     "output_type": "execute_result"
    }
   ],
   "source": [
    "sample_scribble_kea.get_encoded_scribble()[0].shape"
   ]
  },
  {
   "cell_type": "code",
   "execution_count": 26,
   "metadata": {},
   "outputs": [],
   "source": [
    "PASCAL_DEMO_SCRIBBLE_PATH = r\".\\data\\demoPascal\\2008_003147.xml\"\n",
    "PASCAL_DEMO_SCRIBBLE_PATH1 = r\".\\data\\demoPascal\\2010_005258.xml\""
   ]
  },
  {
   "cell_type": "code",
   "execution_count": 28,
   "metadata": {},
   "outputs": [],
   "source": [
    "n_classes = sample_scribble_kea.get_n_classes()"
   ]
  },
  {
   "cell_type": "code",
   "execution_count": 29,
   "metadata": {},
   "outputs": [],
   "source": [
    "likelihood = Likelihood(\n",
    "    n_classes,  \n",
    "    return_ = 0,\n",
    "    #alpha = 13, \n",
    "    #sigma = 18\n",
    ")"
   ]
  },
  {
   "cell_type": "code",
   "execution_count": 30,
   "metadata": {},
   "outputs": [
    {
     "ename": "IndexError",
     "evalue": "index 455 is out of bounds for axis 2 with size 382",
     "output_type": "error",
     "traceback": [
      "\u001b[1;31m---------------------------------------------------------------------------\u001b[0m",
      "\u001b[1;31mIndexError\u001b[0m                                Traceback (most recent call last)",
      "Cell \u001b[1;32mIn[30], line 2\u001b[0m\n\u001b[0;32m      1\u001b[0m time0 \u001b[39m=\u001b[39m time\u001b[39m.\u001b[39mtime()\n\u001b[1;32m----> 2\u001b[0m fitted_likelihood \u001b[39m=\u001b[39m likelihood\u001b[39m.\u001b[39;49mfit(\n\u001b[0;32m      3\u001b[0m     sample_image_kea, \n\u001b[0;32m      4\u001b[0m     sample_scribble_kea,\n\u001b[0;32m      5\u001b[0m     normalize \u001b[39m=\u001b[39;49m \u001b[39mTrue\u001b[39;49;00m,\n\u001b[0;32m      6\u001b[0m     neg_log \u001b[39m=\u001b[39;49m \u001b[39mTrue\u001b[39;49;00m\n\u001b[0;32m      7\u001b[0m )\n\u001b[0;32m      8\u001b[0m \u001b[39mprint\u001b[39m(\u001b[39mf\u001b[39m\u001b[39m\"\u001b[39m\u001b[39m{\u001b[39;00mtime\u001b[39m.\u001b[39mtime() \u001b[39m-\u001b[39m time0\u001b[39m}\u001b[39;00m\u001b[39m\"\u001b[39m)\n",
      "File \u001b[1;32mc:\\Users\\lollo\\Desktop\\GM\\T2_DSBA_Graphical_Methods\\src\\lib\\probabilityEstim\\Likelihood.py:197\u001b[0m, in \u001b[0;36mLikelihood.fit\u001b[1;34m(self, target_image, encoded_scribble, normalize, neg_log)\u001b[0m\n\u001b[0;32m    195\u001b[0m \u001b[39mif\u001b[39;00m \u001b[39mnot\u001b[39;00m \u001b[39mself\u001b[39m\u001b[39m.\u001b[39mfitted_likelihood_:\n\u001b[0;32m    196\u001b[0m     \u001b[39mself\u001b[39m\u001b[39m.\u001b[39mfitted_likelihood_ \u001b[39m=\u001b[39m \u001b[39mTrue\u001b[39;00m\n\u001b[1;32m--> 197\u001b[0m     \u001b[39mself\u001b[39m\u001b[39m.\u001b[39mfitted_likelihood \u001b[39m=\u001b[39m  \u001b[39mself\u001b[39;49m\u001b[39m.\u001b[39;49m__fit(\n\u001b[0;32m    198\u001b[0m         target_image, \n\u001b[0;32m    199\u001b[0m         encoded_scribble,\n\u001b[0;32m    200\u001b[0m         normalize \u001b[39m=\u001b[39;49m normalize,\n\u001b[0;32m    201\u001b[0m         neg_log \u001b[39m=\u001b[39;49m neg_log\n\u001b[0;32m    202\u001b[0m     )\n\u001b[0;32m    203\u001b[0m \u001b[39mreturn\u001b[39;00m \u001b[39mself\u001b[39m\u001b[39m.\u001b[39mfitted_likelihood\n",
      "File \u001b[1;32mc:\\Users\\lollo\\Desktop\\GM\\T2_DSBA_Graphical_Methods\\src\\lib\\probabilityEstim\\Likelihood.py:157\u001b[0m, in \u001b[0;36mLikelihood.__fit\u001b[1;34m(self, target_image, encoded_scribble, normalize, smoothing, neg_log)\u001b[0m\n\u001b[0;32m    155\u001b[0m kde_likelihood_map \u001b[39m=\u001b[39m np\u001b[39m.\u001b[39mempty(target_size) \n\u001b[0;32m    156\u001b[0m \u001b[39mfor\u001b[39;00m idx, class_scribble_coordinates \u001b[39min\u001b[39;00m \u001b[39menumerate\u001b[39m(encoded_scribble):\n\u001b[1;32m--> 157\u001b[0m     kde_likelihood \u001b[39m=\u001b[39m \u001b[39mself\u001b[39;49m\u001b[39m.\u001b[39;49m__get_class_factorised_kernel_cuda_(\n\u001b[0;32m    158\u001b[0m         target_image, \n\u001b[0;32m    159\u001b[0m         class_scribble_coordinates    \n\u001b[0;32m    160\u001b[0m     )\n\u001b[0;32m    161\u001b[0m     kde_likelihood_map[idx, :, :] \u001b[39m=\u001b[39m kde_likelihood\n\u001b[0;32m    162\u001b[0m \u001b[39mprint\u001b[39m(\u001b[39mf\u001b[39m\u001b[39m\"\u001b[39m\u001b[39mdtype \u001b[39m\u001b[39m{\u001b[39;00mkde_likelihood_map\u001b[39m.\u001b[39mdtype\u001b[39m}\u001b[39;00m\u001b[39m\"\u001b[39m)\n",
      "File \u001b[1;32mc:\\Users\\lollo\\Desktop\\GM\\T2_DSBA_Graphical_Methods\\src\\lib\\probabilityEstim\\Likelihood.py:97\u001b[0m, in \u001b[0;36mLikelihood.__get_class_factorised_kernel_cuda_\u001b[1;34m(self, target_image, scribble_coordinates)\u001b[0m\n\u001b[0;32m     94\u001b[0m alpha \u001b[39m=\u001b[39m np\u001b[39m.\u001b[39mfloat64(\u001b[39mself\u001b[39m\u001b[39m.\u001b[39malpha)\n\u001b[0;32m     95\u001b[0m sigma \u001b[39m=\u001b[39m np\u001b[39m.\u001b[39mfloat64(\u001b[39mself\u001b[39m\u001b[39m.\u001b[39msigma)\n\u001b[1;32m---> 97\u001b[0m scribble_color_intensity_values \u001b[39m=\u001b[39m \u001b[39mself\u001b[39;49m\u001b[39m.\u001b[39;49m__find_scribble_pixel_color_intensity_values(\n\u001b[0;32m     98\u001b[0m     target_image,\n\u001b[0;32m     99\u001b[0m     scribble_coordinates\n\u001b[0;32m    100\u001b[0m )\n\u001b[0;32m    102\u001b[0m output_array \u001b[39m=\u001b[39m np\u001b[39m.\u001b[39mempty((image_width, image_height), dtype \u001b[39m=\u001b[39m np\u001b[39m.\u001b[39mfloat64)\n\u001b[0;32m    104\u001b[0m d_return_ \u001b[39m=\u001b[39m cuda\u001b[39m.\u001b[39mto_device(\u001b[39mself\u001b[39m\u001b[39m.\u001b[39mreturn_)\n",
      "File \u001b[1;32mc:\\Users\\lollo\\Desktop\\GM\\T2_DSBA_Graphical_Methods\\src\\lib\\probabilityEstim\\Likelihood.py:66\u001b[0m, in \u001b[0;36mLikelihood.__find_scribble_pixel_color_intensity_values\u001b[1;34m(self, target_image, scribble_coordinates)\u001b[0m\n\u001b[0;32m     64\u001b[0m \u001b[39mfor\u001b[39;00m idx \u001b[39min\u001b[39;00m \u001b[39mrange\u001b[39m(n_scribble_pixels):\n\u001b[0;32m     65\u001b[0m     x_coord,  y_coord \u001b[39m=\u001b[39m scribble_coordinates[idx]\n\u001b[1;32m---> 66\u001b[0m     pixel_color_intensity \u001b[39m=\u001b[39m image_array[:, x_coord, y_coord]\n\u001b[0;32m     67\u001b[0m     scribble_color_intensity_values[idx, : ] \u001b[39m=\u001b[39m pixel_color_intensity\n\u001b[0;32m     68\u001b[0m \u001b[39mreturn\u001b[39;00m scribble_color_intensity_values\n",
      "\u001b[1;31mIndexError\u001b[0m: index 455 is out of bounds for axis 2 with size 382"
     ]
    }
   ],
   "source": [
    "time0 = time.time()\n",
    "fitted_likelihood = likelihood.fit(\n",
    "    sample_image_kea, \n",
    "    sample_scribble_kea,\n",
    "    normalize = True,\n",
    "    neg_log = True\n",
    ")\n",
    "print(f\"{time.time() - time0}\")"
   ]
  },
  {
   "cell_type": "code",
   "execution_count": null,
   "metadata": {},
   "outputs": [],
   "source": []
  }
 ],
 "metadata": {
  "kernelspec": {
   "display_name": "graphical_models",
   "language": "python",
   "name": "python3"
  },
  "language_info": {
   "codemirror_mode": {
    "name": "ipython",
    "version": 3
   },
   "file_extension": ".py",
   "mimetype": "text/x-python",
   "name": "python",
   "nbconvert_exporter": "python",
   "pygments_lexer": "ipython3",
   "version": "3.10.9"
  },
  "orig_nbformat": 4,
  "vscode": {
   "interpreter": {
    "hash": "d672ab6bf67232621c7d4e8f5a29d9fcd6e62003128199299076bf66f7f62367"
   }
  }
 },
 "nbformat": 4,
 "nbformat_minor": 2
}
