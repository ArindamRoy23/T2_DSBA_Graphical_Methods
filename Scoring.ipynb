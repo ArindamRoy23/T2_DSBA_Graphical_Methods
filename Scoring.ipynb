{
 "cells": [
  {
   "cell_type": "code",
   "execution_count": 1,
   "id": "753e5b7d",
   "metadata": {},
   "outputs": [],
   "source": [
    "from __future__ import annotations\n",
    "from src.lib.utils.FileHandling.FileHandlingInterface import *\n",
    "from src.lib.SVCDSeg.SVCD import *\n",
    "import matplotlib.pyplot as plt\n",
    "import logging\n",
    "import time\n",
    "import warnings"
   ]
  },
  {
   "cell_type": "code",
   "execution_count": 2,
   "id": "4101b886",
   "metadata": {},
   "outputs": [],
   "source": [
    "import numpy as np\n",
    "import pandas as pd\n",
    "import random\n",
    "\n",
    "results = {}\n",
    "from PIL import Image, ImageOps\n",
    "# import cv2"
   ]
  },
  {
   "cell_type": "code",
   "execution_count": 3,
   "id": "139b1e41",
   "metadata": {},
   "outputs": [],
   "source": [
    "def dice(true_image,generated_image):\n",
    "    true_image = true_image.flatten()\n",
    "    generated_image = generated_image.flatten()\n",
    "    if len(true_image)!= len(generated_image):\n",
    "        print('Error in input and output image')\n",
    "    else:\n",
    "        intersection = 0\n",
    "        for ind in range(len(true_image)):\n",
    "            if true_image[ind] == generated_image[ind]:\n",
    "                intersection = intersection + 1\n",
    "    return(2*intersection/ (2*len(true_image)))"
   ]
  },
  {
   "cell_type": "code",
   "execution_count": 4,
   "id": "f1857ad4",
   "metadata": {},
   "outputs": [
    {
     "name": "stderr",
     "output_type": "stream",
     "text": [
      "  0%|                                                                                         | 0/1000 [00:00<?, ?it/s]C:\\Users\\arind\\OneDrive\\Desktop\\Classes\\GM_2\\T2_DSBA_Graphical_Methods\\src\\lib\\probabilityEstim\\Likelihood.py:168: RuntimeWarning: invalid value encountered in true_divide\n",
      "  kde_likelihood_map /= np.sum(kde_likelihood_map, axis = 0) # normalize to sum to one over each class\n",
      "  0%|                                                                                 | 1/1000 [00:02<34:06,  2.05s/it]"
     ]
    },
    {
     "name": "stdout",
     "output_type": "stream",
     "text": [
      "dtype float64\n"
     ]
    },
    {
     "name": "stderr",
     "output_type": "stream",
     "text": [
      "100%|██████████████████████████████████████████████████████████████████████████████| 1000/1000 [01:10<00:00, 14.09it/s]\n"
     ]
    },
    {
     "name": "stdout",
     "output_type": "stream",
     "text": [
      "0.0 -> 15273\n",
      "0\n",
      "76.0 -> 18562\n",
      "47503\n",
      "220.0 -> 29145\n",
      "118497\n",
      "*** 0.29212048192771084\n",
      "0.0 -> 4900\n",
      "118497\n",
      "76.0 -> 1142\n",
      "0\n",
      "220.0 -> 5105\n",
      "47503\n",
      "*** 0.6334156626506025\n",
      "0.0 -> 7123\n",
      "47503\n",
      "76.0 -> 18999\n",
      "118497\n",
      "220.0 -> 762\n",
      "0\n",
      "*** 0.07446385542168675\n"
     ]
    },
    {
     "name": "stderr",
     "output_type": "stream",
     "text": [
      "  0%|                                                                                 | 1/1000 [00:00<13:27,  1.24it/s]"
     ]
    },
    {
     "name": "stdout",
     "output_type": "stream",
     "text": [
      "dtype float64\n"
     ]
    },
    {
     "name": "stderr",
     "output_type": "stream",
     "text": [
      "100%|██████████████████████████████████████████████████████████████████████████████| 1000/1000 [01:21<00:00, 12.29it/s]\n"
     ]
    },
    {
     "name": "stdout",
     "output_type": "stream",
     "text": [
      "0.0 -> 16031\n",
      "0\n",
      "76.0 -> 18558\n",
      "47503\n",
      "220.0 -> 4902\n",
      "118497\n",
      "*** 0.29212048192771084\n",
      "0.0 -> 15564\n",
      "118497\n",
      "76.0 -> 3966\n",
      "0\n",
      "220.0 -> 4834\n",
      "47503\n",
      "*** 0.6334156626506025\n",
      "0.0 -> 3382\n",
      "47503\n",
      "76.0 -> 16624\n",
      "118497\n",
      "220.0 -> 22418\n",
      "0\n",
      "*** 0.07446385542168675\n"
     ]
    },
    {
     "name": "stderr",
     "output_type": "stream",
     "text": [
      "  0%|▏                                                                                | 3/1000 [00:01<04:54,  3.38it/s]"
     ]
    },
    {
     "name": "stdout",
     "output_type": "stream",
     "text": [
      "dtype float64\n"
     ]
    },
    {
     "name": "stderr",
     "output_type": "stream",
     "text": [
      "100%|██████████████████████████████████████████████████████████████████████████████| 1000/1000 [01:09<00:00, 14.40it/s]\n"
     ]
    },
    {
     "name": "stdout",
     "output_type": "stream",
     "text": [
      "0.0 -> 23098\n",
      "0\n",
      "76.0 -> 15735\n",
      "47503\n",
      "220.0 -> 8353\n",
      "118497\n",
      "*** 0.29212048192771084\n",
      "0.0 -> 7374\n",
      "118497\n",
      "76.0 -> 4674\n",
      "0\n",
      "220.0 -> 28187\n",
      "47503\n",
      "*** 0.6334156626506025\n",
      "0.0 -> 26093\n",
      "47503\n",
      "76.0 -> 26332\n",
      "118497\n",
      "220.0 -> 11571\n",
      "0\n",
      "*** 0.07446385542168675\n"
     ]
    },
    {
     "name": "stderr",
     "output_type": "stream",
     "text": [
      "  0%|▏                                                                                | 3/1000 [00:00<03:35,  4.62it/s]"
     ]
    },
    {
     "name": "stdout",
     "output_type": "stream",
     "text": [
      "dtype float64\n"
     ]
    },
    {
     "name": "stderr",
     "output_type": "stream",
     "text": [
      "100%|██████████████████████████████████████████████████████████████████████████████| 1000/1000 [01:08<00:00, 14.63it/s]\n"
     ]
    },
    {
     "name": "stdout",
     "output_type": "stream",
     "text": [
      "0.0 -> 11782\n",
      "0\n",
      "38.0 -> 8910\n",
      "1718\n",
      "220.0 -> 4471\n",
      "164782\n",
      "*** 0.018738738738738738\n",
      "0.0 -> 13093\n",
      "164782\n",
      "38.0 -> 22564\n",
      "0\n",
      "220.0 -> 29934\n",
      "1718\n",
      "*** 0.9788888888888889\n",
      "0.0 -> 19721\n",
      "1718\n",
      "38.0 -> 6093\n",
      "164782\n",
      "220.0 -> 20375\n",
      "0\n",
      "*** 0.0023723723723723723\n"
     ]
    },
    {
     "name": "stderr",
     "output_type": "stream",
     "text": [
      "  0%|▏                                                                                | 3/1000 [00:00<03:53,  4.26it/s]"
     ]
    },
    {
     "name": "stdout",
     "output_type": "stream",
     "text": [
      "dtype float64\n"
     ]
    },
    {
     "name": "stderr",
     "output_type": "stream",
     "text": [
      "100%|██████████████████████████████████████████████████████████████████████████████| 1000/1000 [01:07<00:00, 14.71it/s]\n"
     ]
    },
    {
     "name": "stdout",
     "output_type": "stream",
     "text": [
      "0.0 -> 25283\n",
      "0\n",
      "38.0 -> 29892\n",
      "1718\n",
      "220.0 -> 25966\n",
      "164782\n",
      "*** 0.018738738738738738\n",
      "0.0 -> 10102\n",
      "164782\n",
      "38.0 -> 6246\n",
      "0\n",
      "220.0 -> 14594\n",
      "1718\n",
      "*** 0.9788888888888889\n",
      "0.0 -> 26966\n",
      "1718\n",
      "38.0 -> 11404\n",
      "164782\n",
      "220.0 -> 15656\n",
      "0\n",
      "*** 0.0023723723723723723\n"
     ]
    },
    {
     "name": "stderr",
     "output_type": "stream",
     "text": [
      "  0%|▏                                                                                | 3/1000 [00:00<03:50,  4.32it/s]"
     ]
    },
    {
     "name": "stdout",
     "output_type": "stream",
     "text": [
      "dtype float64\n"
     ]
    },
    {
     "name": "stderr",
     "output_type": "stream",
     "text": [
      "100%|██████████████████████████████████████████████████████████████████████████████| 1000/1000 [01:11<00:00, 13.95it/s]\n"
     ]
    },
    {
     "name": "stdout",
     "output_type": "stream",
     "text": [
      "0.0 -> 16705\n",
      "0\n",
      "38.0 -> 28665\n",
      "1718\n",
      "220.0 -> 13877\n",
      "164782\n",
      "*** 0.018738738738738738\n",
      "0.0 -> 10362\n",
      "164782\n",
      "38.0 -> 26270\n",
      "0\n",
      "220.0 -> 21367\n",
      "1718\n",
      "*** 0.9788888888888889\n",
      "0.0 -> 9872\n",
      "1718\n",
      "38.0 -> 13010\n",
      "164782\n",
      "220.0 -> 19054\n",
      "0\n",
      "*** 0.0023723723723723723\n"
     ]
    },
    {
     "name": "stderr",
     "output_type": "stream",
     "text": [
      "  0%|                                                                                 | 1/1000 [00:01<19:28,  1.17s/it]"
     ]
    },
    {
     "name": "stdout",
     "output_type": "stream",
     "text": [
      "dtype float64\n"
     ]
    },
    {
     "name": "stderr",
     "output_type": "stream",
     "text": [
      "100%|██████████████████████████████████████████████████████████████████████████████| 1000/1000 [04:05<00:00,  4.08it/s]\n"
     ]
    },
    {
     "name": "stdout",
     "output_type": "stream",
     "text": [
      "0.0 -> 8931\n",
      "40692\n",
      "94.0 -> 29043\n",
      "13560\n",
      "220.0 -> 8808\n",
      "103299\n",
      "2879.0 -> 3319\n",
      "9014\n",
      "21331.0 -> 6248\n",
      "20935\n",
      "*** 0.2928\n",
      "0.0 -> 9881\n",
      "20935\n",
      "94.0 -> 16081\n",
      "40692\n",
      "220.0 -> 847\n",
      "13560\n",
      "2879.0 -> 10728\n",
      "103299\n",
      "21331.0 -> 27739\n",
      "9014\n",
      "*** 0.11896533333333334\n",
      "0.0 -> 1909\n",
      "9014\n",
      "94.0 -> 17456\n",
      "20935\n",
      "220.0 -> 29815\n",
      "40692\n",
      "2879.0 -> 10662\n",
      "13560\n",
      "21331.0 -> 18160\n",
      "103299\n",
      "*** 0.04770666666666667\n",
      "0.0 -> 1915\n",
      "103299\n",
      "94.0 -> 14298\n",
      "9014\n",
      "220.0 -> 28650\n",
      "20935\n",
      "2879.0 -> 25079\n",
      "40692\n",
      "21331.0 -> 4082\n",
      "13560\n",
      "*** 0.537968\n",
      "0.0 -> 10458\n",
      "13560\n",
      "94.0 -> 1990\n",
      "103299\n",
      "220.0 -> 8245\n",
      "9014\n",
      "2879.0 -> 5852\n",
      "20935\n",
      "21331.0 -> 7650\n",
      "40692\n",
      "*** 0.00256\n"
     ]
    },
    {
     "name": "stderr",
     "output_type": "stream",
     "text": [
      "\r",
      "  0%|                                                                                         | 0/1000 [00:00<?, ?it/s]"
     ]
    },
    {
     "name": "stdout",
     "output_type": "stream",
     "text": [
      "dtype float64\n"
     ]
    },
    {
     "name": "stderr",
     "output_type": "stream",
     "text": [
      "100%|██████████████████████████████████████████████████████████████████████████████| 1000/1000 [03:51<00:00,  4.32it/s]\n"
     ]
    },
    {
     "name": "stdout",
     "output_type": "stream",
     "text": [
      "0.0 -> 4770\n",
      "40692\n",
      "94.0 -> 23873\n",
      "13560\n",
      "220.0 -> 9275\n",
      "103299\n",
      "17117.0 -> 12917\n",
      "9014\n",
      "26882.0 -> 1294\n",
      "20935\n",
      "*** 0.2928\n",
      "0.0 -> 14830\n",
      "20935\n",
      "94.0 -> 7725\n",
      "40692\n",
      "220.0 -> 5163\n",
      "13560\n",
      "17117.0 -> 29794\n",
      "103299\n",
      "26882.0 -> 20369\n",
      "9014\n",
      "*** 0.11896533333333334\n",
      "0.0 -> 10808\n",
      "9014\n",
      "94.0 -> 11373\n",
      "20935\n",
      "220.0 -> 22008\n",
      "40692\n",
      "17117.0 -> 25341\n",
      "13560\n",
      "26882.0 -> 22508\n",
      "103299\n",
      "*** 0.04770666666666667\n",
      "0.0 -> 21081\n",
      "103299\n",
      "94.0 -> 8068\n",
      "9014\n",
      "220.0 -> 11139\n",
      "20935\n",
      "17117.0 -> 15050\n",
      "40692\n",
      "26882.0 -> 26926\n",
      "13560\n",
      "*** 0.537968\n",
      "0.0 -> 20830\n",
      "13560\n",
      "94.0 -> 10490\n",
      "103299\n",
      "220.0 -> 25771\n",
      "9014\n",
      "17117.0 -> 12347\n",
      "20935\n",
      "26882.0 -> 6273\n",
      "40692\n",
      "*** 0.00256\n"
     ]
    },
    {
     "name": "stderr",
     "output_type": "stream",
     "text": [
      "\r",
      "  0%|                                                                                         | 0/1000 [00:00<?, ?it/s]"
     ]
    },
    {
     "name": "stdout",
     "output_type": "stream",
     "text": [
      "dtype float64\n"
     ]
    },
    {
     "name": "stderr",
     "output_type": "stream",
     "text": [
      "100%|██████████████████████████████████████████████████████████████████████████████| 1000/1000 [03:41<00:00,  4.52it/s]\n"
     ]
    },
    {
     "name": "stdout",
     "output_type": "stream",
     "text": [
      "0.0 -> 29359\n",
      "40692\n",
      "94.0 -> 19070\n",
      "13560\n",
      "220.0 -> 29929\n",
      "103299\n",
      "6676.0 -> 23033\n",
      "9014\n",
      "7731.0 -> 22763\n",
      "20935\n",
      "*** 0.2928\n",
      "0.0 -> 2743\n",
      "20935\n",
      "94.0 -> 22887\n",
      "40692\n",
      "220.0 -> 23602\n",
      "13560\n",
      "6676.0 -> 28241\n",
      "103299\n",
      "7731.0 -> 3743\n",
      "9014\n",
      "*** 0.11896533333333334\n",
      "0.0 -> 11916\n",
      "9014\n",
      "94.0 -> 11981\n",
      "20935\n",
      "220.0 -> 5006\n",
      "40692\n",
      "6676.0 -> 18121\n",
      "13560\n",
      "7731.0 -> 23555\n",
      "103299\n",
      "*** 0.04770666666666667\n",
      "0.0 -> 13761\n",
      "103299\n",
      "94.0 -> 2157\n",
      "9014\n",
      "220.0 -> 14082\n",
      "20935\n",
      "6676.0 -> 23916\n",
      "40692\n",
      "7731.0 -> 6309\n",
      "13560\n",
      "*** 0.537968\n",
      "0.0 -> 4815\n",
      "13560\n",
      "94.0 -> 6161\n",
      "103299\n",
      "220.0 -> 9188\n",
      "9014\n",
      "6676.0 -> 21159\n",
      "20935\n",
      "7731.0 -> 7319\n",
      "40692\n",
      "*** 0.00256\n"
     ]
    },
    {
     "name": "stderr",
     "output_type": "stream",
     "text": [
      "  0%|                                                                                 | 1/1000 [00:01<18:50,  1.13s/it]"
     ]
    },
    {
     "name": "stdout",
     "output_type": "stream",
     "text": [
      "dtype float64\n"
     ]
    },
    {
     "name": "stderr",
     "output_type": "stream",
     "text": [
      "100%|██████████████████████████████████████████████████████████████████████████████| 1000/1000 [01:02<00:00, 15.95it/s]\n"
     ]
    },
    {
     "name": "stdout",
     "output_type": "stream",
     "text": [
      "0.0 -> 7038\n",
      "0\n",
      "113.0 -> 24475\n",
      "6995\n",
      "220.0 -> 26442\n",
      "147505\n",
      "*** 0.05316504854368932\n",
      "0.0 -> 24877\n",
      "147505\n",
      "113.0 -> 6498\n",
      "0\n",
      "220.0 -> 596\n",
      "6995\n",
      "*** 0.9461941747572815\n",
      "0.0 -> 24472\n",
      "6995\n",
      "113.0 -> 8708\n",
      "147505\n",
      "220.0 -> 5020\n",
      "0\n",
      "*** 0.0006407766990291262\n"
     ]
    },
    {
     "name": "stderr",
     "output_type": "stream",
     "text": [
      "  0%|▏                                                                                | 3/1000 [00:01<05:12,  3.20it/s]"
     ]
    },
    {
     "name": "stdout",
     "output_type": "stream",
     "text": [
      "dtype float64\n"
     ]
    },
    {
     "name": "stderr",
     "output_type": "stream",
     "text": [
      "100%|██████████████████████████████████████████████████████████████████████████████| 1000/1000 [01:04<00:00, 15.47it/s]\n"
     ]
    },
    {
     "name": "stdout",
     "output_type": "stream",
     "text": [
      "0.0 -> 1470\n",
      "0\n",
      "113.0 -> 5179\n",
      "6995\n",
      "220.0 -> 6866\n",
      "147505\n",
      "*** 0.05316504854368932\n",
      "0.0 -> 10589\n",
      "147505\n",
      "113.0 -> 27834\n",
      "0\n",
      "220.0 -> 7316\n",
      "6995\n",
      "*** 0.9461941747572815\n",
      "0.0 -> 28482\n",
      "6995\n",
      "113.0 -> 5732\n",
      "147505\n",
      "220.0 -> 16352\n",
      "0\n",
      "*** 0.0006407766990291262\n"
     ]
    },
    {
     "name": "stderr",
     "output_type": "stream",
     "text": [
      "  0%|▏                                                                                | 3/1000 [00:01<05:21,  3.11it/s]"
     ]
    },
    {
     "name": "stdout",
     "output_type": "stream",
     "text": [
      "dtype float64\n"
     ]
    },
    {
     "name": "stderr",
     "output_type": "stream",
     "text": [
      "100%|██████████████████████████████████████████████████████████████████████████████| 1000/1000 [01:03<00:00, 15.78it/s]\n"
     ]
    },
    {
     "name": "stdout",
     "output_type": "stream",
     "text": [
      "0.0 -> 5256\n",
      "0\n",
      "113.0 -> 5672\n",
      "6995\n",
      "220.0 -> 22498\n",
      "147505\n",
      "*** 0.05316504854368932\n",
      "0.0 -> 4435\n",
      "147505\n",
      "113.0 -> 12302\n",
      "0\n",
      "220.0 -> 11762\n",
      "6995\n",
      "*** 0.9461941747572815\n",
      "0.0 -> 28679\n",
      "6995\n",
      "113.0 -> 10898\n",
      "147505\n",
      "220.0 -> 29382\n",
      "0\n",
      "*** 0.0006407766990291262\n"
     ]
    },
    {
     "name": "stderr",
     "output_type": "stream",
     "text": [
      "  0%|▏                                                                                | 3/1000 [00:01<05:10,  3.21it/s]"
     ]
    },
    {
     "name": "stdout",
     "output_type": "stream",
     "text": [
      "dtype float64\n"
     ]
    },
    {
     "name": "stderr",
     "output_type": "stream",
     "text": [
      "100%|██████████████████████████████████████████████████████████████████████████████| 1000/1000 [01:09<00:00, 14.32it/s]\n"
     ]
    },
    {
     "name": "stdout",
     "output_type": "stream",
     "text": [
      "0.0 -> 2986\n",
      "0\n",
      "34.0 -> 6580\n",
      "6432\n",
      "220.0 -> 27354\n",
      "160068\n",
      "*** 0.04121921921921922\n",
      "0.0 -> 8912\n",
      "160068\n",
      "34.0 -> 16400\n",
      "0\n",
      "220.0 -> 19673\n",
      "6432\n",
      "*** 0.9515195195195195\n",
      "0.0 -> 7719\n",
      "6432\n",
      "34.0 -> 22418\n",
      "160068\n",
      "220.0 -> 14224\n",
      "0\n",
      "*** 0.0072612612612612615\n"
     ]
    },
    {
     "name": "stderr",
     "output_type": "stream",
     "text": [
      "  0%|                                                                                 | 1/1000 [00:01<19:11,  1.15s/it]"
     ]
    },
    {
     "name": "stdout",
     "output_type": "stream",
     "text": [
      "dtype float64\n"
     ]
    },
    {
     "name": "stderr",
     "output_type": "stream",
     "text": [
      "100%|██████████████████████████████████████████████████████████████████████████████| 1000/1000 [01:09<00:00, 14.37it/s]\n"
     ]
    },
    {
     "name": "stdout",
     "output_type": "stream",
     "text": [
      "0.0 -> 4571\n",
      "0\n",
      "34.0 -> 1966\n",
      "6432\n",
      "220.0 -> 16965\n",
      "160068\n",
      "*** 0.04121921921921922\n",
      "0.0 -> 28902\n",
      "160068\n",
      "34.0 -> 17551\n",
      "0\n",
      "220.0 -> 14505\n",
      "6432\n",
      "*** 0.9515195195195195\n",
      "0.0 -> 903\n",
      "6432\n",
      "34.0 -> 20063\n",
      "160068\n",
      "220.0 -> 2633\n",
      "0\n",
      "*** 0.0072612612612612615\n"
     ]
    },
    {
     "name": "stderr",
     "output_type": "stream",
     "text": [
      "  0%|                                                                                 | 1/1000 [00:01<19:26,  1.17s/it]"
     ]
    },
    {
     "name": "stdout",
     "output_type": "stream",
     "text": [
      "dtype float64\n"
     ]
    },
    {
     "name": "stderr",
     "output_type": "stream",
     "text": [
      "100%|██████████████████████████████████████████████████████████████████████████████| 1000/1000 [01:08<00:00, 14.55it/s]\n"
     ]
    },
    {
     "name": "stdout",
     "output_type": "stream",
     "text": [
      "0.0 -> 1594\n",
      "0\n",
      "34.0 -> 3167\n",
      "6432\n",
      "220.0 -> 17468\n",
      "160068\n",
      "*** 0.04121921921921922\n",
      "0.0 -> 22087\n",
      "160068\n",
      "34.0 -> 687\n",
      "0\n",
      "220.0 -> 6754\n",
      "6432\n",
      "*** 0.9515195195195195\n",
      "0.0 -> 5906\n",
      "6432\n",
      "34.0 -> 9117\n",
      "160068\n",
      "220.0 -> 12752\n",
      "0\n",
      "*** 0.0072612612612612615\n"
     ]
    },
    {
     "name": "stderr",
     "output_type": "stream",
     "text": [
      "  0%|                                                                                 | 1/1000 [00:01<32:45,  1.97s/it]"
     ]
    },
    {
     "name": "stdout",
     "output_type": "stream",
     "text": [
      "dtype float64\n"
     ]
    },
    {
     "name": "stderr",
     "output_type": "stream",
     "text": [
      "100%|██████████████████████████████████████████████████████████████████████████████| 1000/1000 [01:08<00:00, 14.65it/s]\n"
     ]
    },
    {
     "name": "stdout",
     "output_type": "stream",
     "text": [
      "0.0 -> 26328\n",
      "0\n",
      "133.0 -> 2066\n",
      "32591\n",
      "220.0 -> 11354\n",
      "134409\n",
      "*** 0.23403592814371257\n",
      "0.0 -> 21338\n",
      "134409\n",
      "133.0 -> 21622\n",
      "0\n",
      "220.0 -> 12796\n",
      "32591\n",
      "*** 0.7435209580838323\n",
      "0.0 -> 8548\n",
      "32591\n",
      "133.0 -> 19929\n",
      "134409\n",
      "220.0 -> 15505\n",
      "0\n",
      "*** 0.02244311377245509\n"
     ]
    },
    {
     "name": "stderr",
     "output_type": "stream",
     "text": [
      "  0%|▏                                                                                | 3/1000 [00:02<10:35,  1.57it/s]"
     ]
    },
    {
     "name": "stdout",
     "output_type": "stream",
     "text": [
      "dtype float64\n"
     ]
    },
    {
     "name": "stderr",
     "output_type": "stream",
     "text": [
      "100%|██████████████████████████████████████████████████████████████████████████████| 1000/1000 [01:09<00:00, 14.45it/s]\n"
     ]
    },
    {
     "name": "stdout",
     "output_type": "stream",
     "text": [
      "0.0 -> 16085\n",
      "0\n",
      "133.0 -> 7786\n",
      "32591\n",
      "220.0 -> 11444\n",
      "134409\n",
      "*** 0.23403592814371257\n",
      "0.0 -> 24180\n",
      "134409\n",
      "133.0 -> 26778\n",
      "0\n",
      "220.0 -> 21486\n",
      "32591\n",
      "*** 0.7435209580838323\n",
      "0.0 -> 29617\n",
      "32591\n",
      "133.0 -> 25927\n",
      "134409\n",
      "220.0 -> 4601\n",
      "0\n",
      "*** 0.02244311377245509\n"
     ]
    },
    {
     "name": "stderr",
     "output_type": "stream",
     "text": [
      "  0%|▏                                                                                | 3/1000 [00:02<09:08,  1.82it/s]"
     ]
    },
    {
     "name": "stdout",
     "output_type": "stream",
     "text": [
      "dtype float64\n"
     ]
    },
    {
     "name": "stderr",
     "output_type": "stream",
     "text": [
      "100%|██████████████████████████████████████████████████████████████████████████████| 1000/1000 [01:09<00:00, 14.43it/s]\n"
     ]
    },
    {
     "name": "stdout",
     "output_type": "stream",
     "text": [
      "0.0 -> 12972\n",
      "0\n",
      "133.0 -> 9552\n",
      "32591\n",
      "220.0 -> 24059\n",
      "134409\n",
      "*** 0.23403592814371257\n",
      "0.0 -> 19351\n",
      "134409\n",
      "133.0 -> 19934\n",
      "0\n",
      "220.0 -> 17182\n",
      "32591\n",
      "*** 0.7435209580838323\n",
      "0.0 -> 28730\n",
      "32591\n",
      "133.0 -> 7965\n",
      "134409\n",
      "220.0 -> 5103\n",
      "0\n",
      "*** 0.02244311377245509\n"
     ]
    }
   ],
   "source": [
    "fnames = ['2007_000175', '2007_000243','2007_000464','2007_001289','2007_001397','2007_001834']\n",
    "lmbda = [8e-3, 8e-2, 8e-1]\n",
    "#                 **** Add loops for added hyperparameters\n",
    "\n",
    "for fname in fnames:\n",
    "        for lm in lmbda:\n",
    "            KEA_IMAGE_PATH = f\"data/demoPascal/{fname}.jpg\"\n",
    "            KEA_SCRIBBLE_PATH = f\"./data/demoPascal/{fname}.xml\"\n",
    "\n",
    "            sample_image_kea = TargetImage(\n",
    "                KEA_IMAGE_PATH\n",
    "            )\n",
    "            sample_scribble_kea = EncodedScribble(\n",
    "                KEA_SCRIBBLE_PATH,\n",
    "            )\n",
    "            n_classes = sample_scribble_kea.get_n_classes()\n",
    "            segmenter = SVCDSeg(\n",
    "                n_classes,\n",
    "                max_iter = 1000,\n",
    "                debug = 0,\n",
    "                lambda_ = 8e-3,\n",
    "                #tau_dual = 0.5 \n",
    "            )\n",
    "            fitted_segmentation = segmenter.fit(\n",
    "                sample_image_kea,\n",
    "                sample_scribble_kea\n",
    "            )\n",
    "            for class_theta in segmenter.theta_t1:\n",
    "                final_segmentation = class_theta.transpose(1, 0)\n",
    "            final_segmentation = np.argmax(segmenter.theta_t1, axis = 0).transpose(1, 0)\n",
    "            np.savetxt(f'Dice_Score/Generated_maps/{fname}.csv', final_segmentation, delimiter=',', fmt='%.2f')\n",
    "\n",
    "\n",
    "            generated_image = np.genfromtxt(f\"C:/Users/arind/OneDrive/Desktop/Classes/GM_2/T2_DSBA_Graphical_Methods/Dice_Score/Generated_maps/{fname}.csv\", delimiter=',')\n",
    "            true_image = np.asarray(ImageOps.grayscale(Image.open(f\"C:/Users/arind/OneDrive/Desktop/Classes/GM_2/T2_DSBA_Graphical_Methods/Dice_Score/Generated_maps/{fname}.png\")))\n",
    "            classes_true = np.unique(true_image.flatten())\n",
    "            classes_predicted = np.unique(generated_image.flatten())\n",
    "\n",
    "            delta = len(classes_predicted) - len(classes_true)\n",
    "            if delta<0: delta = delta*-1\n",
    "            if delta != 0:\n",
    "\n",
    "                li = []\n",
    "                while len(li)!= delta:\n",
    "                    li.append(np.random.randint(300, 30000))\n",
    "\n",
    "                if len(classes_predicted)>len(classes_true):\n",
    "                    classes_true = np.append(classes_true,li)\n",
    "                else:\n",
    "                    classes_predicted = np.append(classes_predicted,li)\n",
    "\n",
    "\n",
    "\n",
    "            final_mappings = []\n",
    "            for i in  range (0, len(classes_predicted)):\n",
    "                classes_predicted = np.concatenate((classes_predicted[-1:], classes_predicted[:-1]))\n",
    "                li = []\n",
    "                for mappings in np.column_stack((classes_true, classes_predicted)):\n",
    "                    ct, cp = mappings[0], mappings[1] \n",
    "            #         print(ct, cp)\n",
    "                    li.append((ct, cp))\n",
    "            #     print(i,li)\n",
    "                final_mappings.append(li)\n",
    "            final_mappings\n",
    "            dice_s = 0 \n",
    "            for mapping in final_mappings:\n",
    "                gi_list = list(generated_image.flatten())\n",
    "                ti_list = list(true_image.flatten())\n",
    "                for ct, cp in mapping:\n",
    "                    rand_int = np.random.randint(300, 30000)\n",
    "                    print(ct, '->' ,rand_int )\n",
    "                    print(len(generated_image[generated_image == cp]))\n",
    "                    gi = generated_image.copy()\n",
    "                    gi[gi == cp] = rand_int\n",
    "                    gi_list = [x if x!=cp else rand_int  for x in gi_list]     \n",
    "                    ti_list = [x if x!=ct else rand_int  for x in ti_list]\n",
    "                gi_image = np.array(gi_list).reshape(generated_image.shape)  \n",
    "                ti_image = np.array(ti_list).reshape(true_image.shape)\n",
    "                print('***', dice(ti_image,gi_image))\n",
    "                if dice(ti_image,gi_image)>dice_s:\n",
    "                    dice_s = dice(ti_image,gi_image)\n",
    "#                 **** Change for added hyperparameters\n",
    "                results[str(fname)+'|' + str(lm)] = dice_s"
   ]
  },
  {
   "cell_type": "code",
   "execution_count": 20,
   "id": "75d3b905",
   "metadata": {},
   "outputs": [
    {
     "data": {
      "text/plain": [
       "'ab'"
      ]
     },
     "execution_count": 20,
     "metadata": {},
     "output_type": "execute_result"
    }
   ],
   "source": [
    "'a' + 'b'"
   ]
  },
  {
   "cell_type": "code",
   "execution_count": 7,
   "id": "89e65b36",
   "metadata": {},
   "outputs": [
    {
     "data": {
      "text/plain": [
       "{'2007_000175|0.008': 0.6334156626506025,\n",
       " '2007_000175|0.08': 0.6334156626506025,\n",
       " '2007_000175|0.8': 0.6334156626506025,\n",
       " '2007_000243|0.008': 0.9788888888888889,\n",
       " '2007_000243|0.08': 0.9788888888888889,\n",
       " '2007_000243|0.8': 0.9788888888888889,\n",
       " '2007_000464|0.008': 0.537968,\n",
       " '2007_000464|0.08': 0.537968,\n",
       " '2007_000464|0.8': 0.537968,\n",
       " '2007_001289|0.008': 0.9461941747572815,\n",
       " '2007_001289|0.08': 0.9461941747572815,\n",
       " '2007_001289|0.8': 0.9461941747572815,\n",
       " '2007_001397|0.008': 0.9515195195195195,\n",
       " '2007_001397|0.08': 0.9515195195195195,\n",
       " '2007_001397|0.8': 0.9515195195195195,\n",
       " '2007_001834|0.008': 0.7435209580838323,\n",
       " '2007_001834|0.08': 0.7435209580838323,\n",
       " '2007_001834|0.8': 0.7435209580838323}"
      ]
     },
     "execution_count": 7,
     "metadata": {},
     "output_type": "execute_result"
    }
   ],
   "source": [
    "\n",
    "results\n",
    "# df = pd.DataFrame(results)"
   ]
  }
 ],
 "metadata": {
  "kernelspec": {
   "display_name": "Python 3 (ipykernel)",
   "language": "python",
   "name": "python3"
  },
  "language_info": {
   "codemirror_mode": {
    "name": "ipython",
    "version": 3
   },
   "file_extension": ".py",
   "mimetype": "text/x-python",
   "name": "python",
   "nbconvert_exporter": "python",
   "pygments_lexer": "ipython3",
   "version": "3.9.12"
  }
 },
 "nbformat": 4,
 "nbformat_minor": 5
}
